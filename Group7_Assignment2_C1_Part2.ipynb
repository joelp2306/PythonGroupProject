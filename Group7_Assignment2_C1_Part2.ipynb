{
 "cells": [
  {
   "cell_type": "code",
   "execution_count": 1,
   "metadata": {},
   "outputs": [],
   "source": [
    "import pandas as pd"
   ]
  },
  {
   "cell_type": "code",
   "execution_count": 2,
   "metadata": {},
   "outputs": [],
   "source": [
    "# csv must be in the same folder as the notebook\n",
    "customers = pd.read_csv('Group7_Assignment2_C1_Part1.csv')"
   ]
  },
  {
   "cell_type": "code",
   "execution_count": 3,
   "metadata": {},
   "outputs": [
    {
     "name": "stdout",
     "output_type": "stream",
     "text": [
      "<class 'pandas.core.frame.DataFrame'>\n",
      "RangeIndex: 2237 entries, 0 to 2236\n",
      "Data columns (total 23 columns):\n",
      " #   Column               Non-Null Count  Dtype  \n",
      "---  ------               --------------  -----  \n",
      " 0   ID                   2237 non-null   int64  \n",
      " 1   Year_Birth           2237 non-null   int64  \n",
      " 2   Education            2237 non-null   object \n",
      " 3   Marital_Status       2237 non-null   object \n",
      " 4   Income               2237 non-null   float64\n",
      " 5   Kidhome              2237 non-null   int64  \n",
      " 6   Teenhome             2237 non-null   int64  \n",
      " 7   Dt_Customer          2237 non-null   object \n",
      " 8   Recency              2237 non-null   int64  \n",
      " 9   MntWines             2237 non-null   int64  \n",
      " 10  MntFruits            2237 non-null   int64  \n",
      " 11  MntMeatProducts      2237 non-null   int64  \n",
      " 12  MntFishProducts      2237 non-null   int64  \n",
      " 13  MntSweetProducts     2237 non-null   int64  \n",
      " 14  MntGoldProds         2237 non-null   int64  \n",
      " 15  NumDealsPurchases    2237 non-null   int64  \n",
      " 16  NumWebPurchases      2237 non-null   int64  \n",
      " 17  NumCatalogPurchases  2237 non-null   int64  \n",
      " 18  NumStorePurchases    2237 non-null   int64  \n",
      " 19  NumWebVisitsMonth    2237 non-null   int64  \n",
      " 20  Complain             2237 non-null   int64  \n",
      " 21  DaysSinceEnrollment  2237 non-null   int64  \n",
      " 22  Generation           2237 non-null   object \n",
      "dtypes: float64(1), int64(18), object(4)\n",
      "memory usage: 402.1+ KB\n"
     ]
    }
   ],
   "source": [
    "customers.info()"
   ]
  },
  {
   "cell_type": "markdown",
   "metadata": {},
   "source": [
    "# Question 2\n",
    "Create a new column named MntProteinProducts with the total amount spent on meat and fish.\n",
    "*   What is the amount spent on proteins for the ID=4141?"
   ]
  },
  {
   "cell_type": "code",
   "execution_count": 4,
   "metadata": {},
   "outputs": [],
   "source": [
    "# Creating MntProteinProducts\n",
    "customers['MntProteinProducts'] = customers['MntMeatProducts'] + customers['MntFishProducts']"
   ]
  },
  {
   "cell_type": "code",
   "execution_count": 5,
   "metadata": {},
   "outputs": [
    {
     "data": {
      "text/html": [
       "<div>\n",
       "<style scoped>\n",
       "    .dataframe tbody tr th:only-of-type {\n",
       "        vertical-align: middle;\n",
       "    }\n",
       "\n",
       "    .dataframe tbody tr th {\n",
       "        vertical-align: top;\n",
       "    }\n",
       "\n",
       "    .dataframe thead th {\n",
       "        text-align: right;\n",
       "    }\n",
       "</style>\n",
       "<table border=\"1\" class=\"dataframe\">\n",
       "  <thead>\n",
       "    <tr style=\"text-align: right;\">\n",
       "      <th></th>\n",
       "      <th>ID</th>\n",
       "      <th>MntProteinProducts</th>\n",
       "    </tr>\n",
       "  </thead>\n",
       "  <tbody>\n",
       "    <tr>\n",
       "      <th>1408</th>\n",
       "      <td>4141</td>\n",
       "      <td>238</td>\n",
       "    </tr>\n",
       "  </tbody>\n",
       "</table>\n",
       "</div>"
      ],
      "text/plain": [
       "        ID  MntProteinProducts\n",
       "1408  4141                 238"
      ]
     },
     "execution_count": 5,
     "metadata": {},
     "output_type": "execute_result"
    }
   ],
   "source": [
    "# MntProteinProducts amount for ID 4141\n",
    "customers[customers['ID'] == 4141][['ID', 'MntProteinProducts']]"
   ]
  },
  {
   "cell_type": "code",
   "execution_count": 6,
   "metadata": {},
   "outputs": [],
   "source": [
    "protein_4141 = customers[customers['ID'] == 4141]['MntProteinProducts'].iloc[0]"
   ]
  },
  {
   "cell_type": "code",
   "execution_count": 7,
   "metadata": {},
   "outputs": [
    {
     "name": "stdout",
     "output_type": "stream",
     "text": [
      "Amount spent on proteins for ID 4141 = 238\n"
     ]
    }
   ],
   "source": [
    "print(f\"Amount spent on proteins for ID 4141 = {protein_4141}\")"
   ]
  },
  {
   "cell_type": "markdown",
   "metadata": {},
   "source": [
    "# Question 3\n",
    "Calculate the total amount spent on protein given the marital status, but just for the \"BabyBoomers\".\n",
    "*   What is the total amount spent on protein for married baby boomers?"
   ]
  },
  {
   "cell_type": "code",
   "execution_count": 8,
   "metadata": {},
   "outputs": [],
   "source": [
    "# Selecting married baby boomers\n",
    "customers_BB_married = customers[(customers['Generation'] == 'BabyBoomer') & (customers['Marital_Status'] == 'Married')]"
   ]
  },
  {
   "cell_type": "code",
   "execution_count": 9,
   "metadata": {},
   "outputs": [],
   "source": [
    "# MntProteinProducts for married baby boomers\n",
    "protein_BB_married = customers_BB_married[['MntProteinProducts']].sum().iloc[0]"
   ]
  },
  {
   "cell_type": "code",
   "execution_count": 10,
   "metadata": {},
   "outputs": [
    {
     "name": "stdout",
     "output_type": "stream",
     "text": [
      "Amount spent on proteins for married baby boomers = 58657\n"
     ]
    }
   ],
   "source": [
    "print(f\"Amount spent on proteins for married baby boomers = {protein_BB_married}\")"
   ]
  },
  {
   "cell_type": "markdown",
   "metadata": {},
   "source": [
    "# Question 4\n",
    "Calculate the average amount spent on sweets, given the generation and the number of kids.\n",
    "*   What is the average amount spent on sweets for the Millenials with 2 kids?"
   ]
  },
  {
   "cell_type": "code",
   "execution_count": 11,
   "metadata": {},
   "outputs": [
    {
     "data": {
      "text/html": [
       "<div>\n",
       "<style scoped>\n",
       "    .dataframe tbody tr th:only-of-type {\n",
       "        vertical-align: middle;\n",
       "    }\n",
       "\n",
       "    .dataframe tbody tr th {\n",
       "        vertical-align: top;\n",
       "    }\n",
       "\n",
       "    .dataframe thead th {\n",
       "        text-align: right;\n",
       "    }\n",
       "</style>\n",
       "<table border=\"1\" class=\"dataframe\">\n",
       "  <thead>\n",
       "    <tr style=\"text-align: right;\">\n",
       "      <th></th>\n",
       "      <th></th>\n",
       "      <th>MntProteinProducts</th>\n",
       "    </tr>\n",
       "    <tr>\n",
       "      <th>Generation</th>\n",
       "      <th>Kidhome</th>\n",
       "      <th></th>\n",
       "    </tr>\n",
       "  </thead>\n",
       "  <tbody>\n",
       "    <tr>\n",
       "      <th rowspan=\"3\" valign=\"top\">BabyBoomer</th>\n",
       "      <th>0</th>\n",
       "      <td>276.166090</td>\n",
       "    </tr>\n",
       "    <tr>\n",
       "      <th>1</th>\n",
       "      <td>50.289157</td>\n",
       "    </tr>\n",
       "    <tr>\n",
       "      <th>2</th>\n",
       "      <td>35.533333</td>\n",
       "    </tr>\n",
       "    <tr>\n",
       "      <th rowspan=\"3\" valign=\"top\">GenX</th>\n",
       "      <th>0</th>\n",
       "      <td>309.041096</td>\n",
       "    </tr>\n",
       "    <tr>\n",
       "      <th>1</th>\n",
       "      <td>64.391304</td>\n",
       "    </tr>\n",
       "    <tr>\n",
       "      <th>2</th>\n",
       "      <td>40.379310</td>\n",
       "    </tr>\n",
       "    <tr>\n",
       "      <th rowspan=\"3\" valign=\"top\">Millenial</th>\n",
       "      <th>0</th>\n",
       "      <td>414.393258</td>\n",
       "    </tr>\n",
       "    <tr>\n",
       "      <th>1</th>\n",
       "      <td>61.916256</td>\n",
       "    </tr>\n",
       "    <tr>\n",
       "      <th>2</th>\n",
       "      <td>72.750000</td>\n",
       "    </tr>\n",
       "    <tr>\n",
       "      <th>Silent</th>\n",
       "      <th>0</th>\n",
       "      <td>377.125000</td>\n",
       "    </tr>\n",
       "  </tbody>\n",
       "</table>\n",
       "</div>"
      ],
      "text/plain": [
       "                    MntProteinProducts\n",
       "Generation Kidhome                    \n",
       "BabyBoomer 0                276.166090\n",
       "           1                 50.289157\n",
       "           2                 35.533333\n",
       "GenX       0                309.041096\n",
       "           1                 64.391304\n",
       "           2                 40.379310\n",
       "Millenial  0                414.393258\n",
       "           1                 61.916256\n",
       "           2                 72.750000\n",
       "Silent     0                377.125000"
      ]
     },
     "execution_count": 11,
     "metadata": {},
     "output_type": "execute_result"
    }
   ],
   "source": [
    "# avg amount spent on sweets given generation and number of kids\n",
    "customers_grouped = customers.groupby(['Generation', 'Kidhome'])[['MntProteinProducts']].agg(('mean'))\n",
    "customers_grouped"
   ]
  },
  {
   "cell_type": "code",
   "execution_count": 12,
   "metadata": {},
   "outputs": [],
   "source": [
    "# Average MntProteinProducts for millenials with 2 kids\n",
    "protein_M_2kids = customers[(customers['Generation'] == 'Millenial') & (customers['Kidhome'] == 2)]\\\n",
    "    .groupby(['Generation', 'Kidhome'])['MntProteinProducts'].agg(('mean')).iloc[0]"
   ]
  },
  {
   "cell_type": "code",
   "execution_count": 13,
   "metadata": {},
   "outputs": [
    {
     "name": "stdout",
     "output_type": "stream",
     "text": [
      "Amount spent on proteins for millenials with two kids = 72.75\n"
     ]
    }
   ],
   "source": [
    "print(f\"Amount spent on proteins for millenials with two kids = {protein_M_2kids}\")"
   ]
  },
  {
   "cell_type": "markdown",
   "metadata": {},
   "source": [
    "# Question 5\n",
    "Calculate the average amount spent on gold, wine, and deals given the income (divided into 10K tranches).\n",
    "*   What is the average amount spent on wine for those with an income between 90-100K?"
   ]
  },
  {
   "cell_type": "code",
   "execution_count": 14,
   "metadata": {},
   "outputs": [],
   "source": [
    "# Creating 10k bins\n",
    "bins_10k = list(range(0,680000, 10000))"
   ]
  },
  {
   "cell_type": "code",
   "execution_count": 15,
   "metadata": {},
   "outputs": [],
   "source": [
    "# Adding the bins to the dataframe\n",
    "customers['Income_range'] = pd.cut(customers['Income'], bins_10k)"
   ]
  },
  {
   "cell_type": "code",
   "execution_count": 16,
   "metadata": {},
   "outputs": [
    {
     "data": {
      "text/html": [
       "<div>\n",
       "<style scoped>\n",
       "    .dataframe tbody tr th:only-of-type {\n",
       "        vertical-align: middle;\n",
       "    }\n",
       "\n",
       "    .dataframe tbody tr th {\n",
       "        vertical-align: top;\n",
       "    }\n",
       "\n",
       "    .dataframe thead th {\n",
       "        text-align: right;\n",
       "    }\n",
       "</style>\n",
       "<table border=\"1\" class=\"dataframe\">\n",
       "  <thead>\n",
       "    <tr style=\"text-align: right;\">\n",
       "      <th></th>\n",
       "      <th>MntGoldProds</th>\n",
       "      <th>MntWines</th>\n",
       "      <th>NumDealsPurchases</th>\n",
       "    </tr>\n",
       "    <tr>\n",
       "      <th>Income_range</th>\n",
       "      <th></th>\n",
       "      <th></th>\n",
       "      <th></th>\n",
       "    </tr>\n",
       "  </thead>\n",
       "  <tbody>\n",
       "    <tr>\n",
       "      <th>(0, 10000]</th>\n",
       "      <td>44.172414</td>\n",
       "      <td>16.413793</td>\n",
       "      <td>3.827586</td>\n",
       "    </tr>\n",
       "    <tr>\n",
       "      <th>(10000, 20000]</th>\n",
       "      <td>13.051020</td>\n",
       "      <td>7.591837</td>\n",
       "      <td>2.204082</td>\n",
       "    </tr>\n",
       "    <tr>\n",
       "      <th>(20000, 30000]</th>\n",
       "      <td>15.341564</td>\n",
       "      <td>15.962963</td>\n",
       "      <td>1.839506</td>\n",
       "    </tr>\n",
       "    <tr>\n",
       "      <th>(30000, 40000]</th>\n",
       "      <td>18.200557</td>\n",
       "      <td>46.281337</td>\n",
       "      <td>2.186630</td>\n",
       "    </tr>\n",
       "    <tr>\n",
       "      <th>(40000, 50000]</th>\n",
       "      <td>30.795732</td>\n",
       "      <td>152.396341</td>\n",
       "      <td>2.856707</td>\n",
       "    </tr>\n",
       "    <tr>\n",
       "      <th>...</th>\n",
       "      <td>...</td>\n",
       "      <td>...</td>\n",
       "      <td>...</td>\n",
       "    </tr>\n",
       "    <tr>\n",
       "      <th>(620000, 630000]</th>\n",
       "      <td>NaN</td>\n",
       "      <td>NaN</td>\n",
       "      <td>NaN</td>\n",
       "    </tr>\n",
       "    <tr>\n",
       "      <th>(630000, 640000]</th>\n",
       "      <td>NaN</td>\n",
       "      <td>NaN</td>\n",
       "      <td>NaN</td>\n",
       "    </tr>\n",
       "    <tr>\n",
       "      <th>(640000, 650000]</th>\n",
       "      <td>NaN</td>\n",
       "      <td>NaN</td>\n",
       "      <td>NaN</td>\n",
       "    </tr>\n",
       "    <tr>\n",
       "      <th>(650000, 660000]</th>\n",
       "      <td>NaN</td>\n",
       "      <td>NaN</td>\n",
       "      <td>NaN</td>\n",
       "    </tr>\n",
       "    <tr>\n",
       "      <th>(660000, 670000]</th>\n",
       "      <td>12.000000</td>\n",
       "      <td>9.000000</td>\n",
       "      <td>4.000000</td>\n",
       "    </tr>\n",
       "  </tbody>\n",
       "</table>\n",
       "<p>67 rows × 3 columns</p>\n",
       "</div>"
      ],
      "text/plain": [
       "                  MntGoldProds    MntWines  NumDealsPurchases\n",
       "Income_range                                                 \n",
       "(0, 10000]           44.172414   16.413793           3.827586\n",
       "(10000, 20000]       13.051020    7.591837           2.204082\n",
       "(20000, 30000]       15.341564   15.962963           1.839506\n",
       "(30000, 40000]       18.200557   46.281337           2.186630\n",
       "(40000, 50000]       30.795732  152.396341           2.856707\n",
       "...                        ...         ...                ...\n",
       "(620000, 630000]           NaN         NaN                NaN\n",
       "(630000, 640000]           NaN         NaN                NaN\n",
       "(640000, 650000]           NaN         NaN                NaN\n",
       "(650000, 660000]           NaN         NaN                NaN\n",
       "(660000, 670000]     12.000000    9.000000           4.000000\n",
       "\n",
       "[67 rows x 3 columns]"
      ]
     },
     "execution_count": 16,
     "metadata": {},
     "output_type": "execute_result"
    }
   ],
   "source": [
    "# Average amount spent on gold and wines, and average number of deals based on income group\n",
    "customers.groupby('Income_range')[['MntGoldProds','MntWines', 'NumDealsPurchases']].agg('mean')"
   ]
  },
  {
   "cell_type": "code",
   "execution_count": 17,
   "metadata": {},
   "outputs": [
    {
     "data": {
      "text/html": [
       "<div>\n",
       "<style scoped>\n",
       "    .dataframe tbody tr th:only-of-type {\n",
       "        vertical-align: middle;\n",
       "    }\n",
       "\n",
       "    .dataframe tbody tr th {\n",
       "        vertical-align: top;\n",
       "    }\n",
       "\n",
       "    .dataframe thead th {\n",
       "        text-align: right;\n",
       "    }\n",
       "</style>\n",
       "<table border=\"1\" class=\"dataframe\">\n",
       "  <thead>\n",
       "    <tr style=\"text-align: right;\">\n",
       "      <th></th>\n",
       "      <th>MntGoldProds</th>\n",
       "      <th>MntWines</th>\n",
       "      <th>NumDealsPurchases</th>\n",
       "    </tr>\n",
       "    <tr>\n",
       "      <th>Income_range</th>\n",
       "      <th></th>\n",
       "      <th></th>\n",
       "      <th></th>\n",
       "    </tr>\n",
       "  </thead>\n",
       "  <tbody>\n",
       "    <tr>\n",
       "      <th>(0, 10000]</th>\n",
       "      <td>44.172414</td>\n",
       "      <td>16.413793</td>\n",
       "      <td>3.827586</td>\n",
       "    </tr>\n",
       "    <tr>\n",
       "      <th>(10000, 20000]</th>\n",
       "      <td>13.051020</td>\n",
       "      <td>7.591837</td>\n",
       "      <td>2.204082</td>\n",
       "    </tr>\n",
       "    <tr>\n",
       "      <th>(20000, 30000]</th>\n",
       "      <td>15.341564</td>\n",
       "      <td>15.962963</td>\n",
       "      <td>1.839506</td>\n",
       "    </tr>\n",
       "    <tr>\n",
       "      <th>(30000, 40000]</th>\n",
       "      <td>18.200557</td>\n",
       "      <td>46.281337</td>\n",
       "      <td>2.186630</td>\n",
       "    </tr>\n",
       "    <tr>\n",
       "      <th>(40000, 50000]</th>\n",
       "      <td>30.795732</td>\n",
       "      <td>152.396341</td>\n",
       "      <td>2.856707</td>\n",
       "    </tr>\n",
       "    <tr>\n",
       "      <th>(50000, 60000]</th>\n",
       "      <td>49.284884</td>\n",
       "      <td>325.912791</td>\n",
       "      <td>3.316860</td>\n",
       "    </tr>\n",
       "    <tr>\n",
       "      <th>(60000, 70000]</th>\n",
       "      <td>65.510574</td>\n",
       "      <td>524.132931</td>\n",
       "      <td>2.598187</td>\n",
       "    </tr>\n",
       "    <tr>\n",
       "      <th>(70000, 80000]</th>\n",
       "      <td>76.179310</td>\n",
       "      <td>604.217241</td>\n",
       "      <td>1.613793</td>\n",
       "    </tr>\n",
       "    <tr>\n",
       "      <th>(80000, 90000]</th>\n",
       "      <td>72.370370</td>\n",
       "      <td>681.351852</td>\n",
       "      <td>1.111111</td>\n",
       "    </tr>\n",
       "    <tr>\n",
       "      <th>(90000, 100000]</th>\n",
       "      <td>59.175000</td>\n",
       "      <td>856.350000</td>\n",
       "      <td>0.625000</td>\n",
       "    </tr>\n",
       "    <tr>\n",
       "      <th>(100000, 110000]</th>\n",
       "      <td>145.250000</td>\n",
       "      <td>665.500000</td>\n",
       "      <td>0.250000</td>\n",
       "    </tr>\n",
       "    <tr>\n",
       "      <th>(110000, 120000]</th>\n",
       "      <td>3.000000</td>\n",
       "      <td>6.000000</td>\n",
       "      <td>0.000000</td>\n",
       "    </tr>\n",
       "    <tr>\n",
       "      <th>(150000, 160000]</th>\n",
       "      <td>2.400000</td>\n",
       "      <td>12.600000</td>\n",
       "      <td>3.000000</td>\n",
       "    </tr>\n",
       "    <tr>\n",
       "      <th>(160000, 170000]</th>\n",
       "      <td>3.000000</td>\n",
       "      <td>70.000000</td>\n",
       "      <td>7.500000</td>\n",
       "    </tr>\n",
       "    <tr>\n",
       "      <th>(660000, 670000]</th>\n",
       "      <td>12.000000</td>\n",
       "      <td>9.000000</td>\n",
       "      <td>4.000000</td>\n",
       "    </tr>\n",
       "  </tbody>\n",
       "</table>\n",
       "</div>"
      ],
      "text/plain": [
       "                  MntGoldProds    MntWines  NumDealsPurchases\n",
       "Income_range                                                 \n",
       "(0, 10000]           44.172414   16.413793           3.827586\n",
       "(10000, 20000]       13.051020    7.591837           2.204082\n",
       "(20000, 30000]       15.341564   15.962963           1.839506\n",
       "(30000, 40000]       18.200557   46.281337           2.186630\n",
       "(40000, 50000]       30.795732  152.396341           2.856707\n",
       "(50000, 60000]       49.284884  325.912791           3.316860\n",
       "(60000, 70000]       65.510574  524.132931           2.598187\n",
       "(70000, 80000]       76.179310  604.217241           1.613793\n",
       "(80000, 90000]       72.370370  681.351852           1.111111\n",
       "(90000, 100000]      59.175000  856.350000           0.625000\n",
       "(100000, 110000]    145.250000  665.500000           0.250000\n",
       "(110000, 120000]      3.000000    6.000000           0.000000\n",
       "(150000, 160000]      2.400000   12.600000           3.000000\n",
       "(160000, 170000]      3.000000   70.000000           7.500000\n",
       "(660000, 670000]     12.000000    9.000000           4.000000"
      ]
     },
     "execution_count": 17,
     "metadata": {},
     "output_type": "execute_result"
    }
   ],
   "source": [
    "# Without NaNs\n",
    "customers.groupby('Income_range')[['MntGoldProds','MntWines', 'NumDealsPurchases']].agg('mean').dropna()"
   ]
  },
  {
   "cell_type": "code",
   "execution_count": 18,
   "metadata": {},
   "outputs": [
    {
     "data": {
      "text/plain": [
       "MntGoldProds          59.175\n",
       "MntWines             856.350\n",
       "NumDealsPurchases      0.625\n",
       "dtype: float64"
      ]
     },
     "execution_count": 18,
     "metadata": {},
     "output_type": "execute_result"
    }
   ],
   "source": [
    "# Average amount spent on gold and wines, and average number of deals for the income range of 90k to 100k\n",
    "customers_income = customers[customers['Income_range'] == pd.Interval(left=90000, right=100000)]\n",
    "goldwineavg = customers_income[['MntGoldProds', 'MntWines','NumDealsPurchases']].mean()\n",
    "goldwineavg"
   ]
  },
  {
   "cell_type": "code",
   "execution_count": 19,
   "metadata": {},
   "outputs": [
    {
     "name": "stdout",
     "output_type": "stream",
     "text": [
      "Amount spent on wine for the income group of 90k to 100k = 856.35\n"
     ]
    }
   ],
   "source": [
    "print(f\"Amount spent on wine for the income group of 90k to 100k = {goldwineavg.iloc[1]}\")"
   ]
  }
 ],
 "metadata": {
  "kernelspec": {
   "display_name": "IE",
   "language": "python",
   "name": "python3"
  },
  "language_info": {
   "codemirror_mode": {
    "name": "ipython",
    "version": 3
   },
   "file_extension": ".py",
   "mimetype": "text/x-python",
   "name": "python",
   "nbconvert_exporter": "python",
   "pygments_lexer": "ipython3",
   "version": "3.10.13"
  }
 },
 "nbformat": 4,
 "nbformat_minor": 2
}
