{
  "cells": [
    {
      "cell_type": "markdown",
      "metadata": {},
      "source": [
        "# Question 1"
      ]
    },
    {
      "cell_type": "code",
      "execution_count": 2,
      "metadata": {
        "id": "UAF-5cDE-Ol9"
      },
      "outputs": [],
      "source": [
        "import pandas as pd"
      ]
    },
    {
      "cell_type": "markdown",
      "metadata": {},
      "source": [
        "First, we import pandas and read the given csv file"
      ]
    },
    {
      "cell_type": "code",
      "execution_count": 3,
      "metadata": {
        "id": "wYdzFN_l-lUD"
      },
      "outputs": [],
      "source": [
        "# csv must be in the same folder as the notebook\n",
        "customers = pd.read_csv('customers.csv')"
      ]
    },
    {
      "cell_type": "code",
      "execution_count": 4,
      "metadata": {
        "colab": {
          "base_uri": "https://localhost:8080/",
          "height": 256
        },
        "id": "n_BE_IOJ-sZo",
        "outputId": "51e68232-3529-4fe4-bd23-25467576e9eb"
      },
      "outputs": [
        {
          "data": {
            "text/html": [
              "<div>\n",
              "<style scoped>\n",
              "    .dataframe tbody tr th:only-of-type {\n",
              "        vertical-align: middle;\n",
              "    }\n",
              "\n",
              "    .dataframe tbody tr th {\n",
              "        vertical-align: top;\n",
              "    }\n",
              "\n",
              "    .dataframe thead th {\n",
              "        text-align: right;\n",
              "    }\n",
              "</style>\n",
              "<table border=\"1\" class=\"dataframe\">\n",
              "  <thead>\n",
              "    <tr style=\"text-align: right;\">\n",
              "      <th></th>\n",
              "      <th>ID</th>\n",
              "      <th>Year_Birth</th>\n",
              "      <th>Education</th>\n",
              "      <th>Marital_Status</th>\n",
              "      <th>Income</th>\n",
              "      <th>Kidhome</th>\n",
              "      <th>Teenhome</th>\n",
              "      <th>Dt_Customer</th>\n",
              "      <th>Recency</th>\n",
              "      <th>MntWines</th>\n",
              "      <th>...</th>\n",
              "      <th>MntMeatProducts</th>\n",
              "      <th>MntFishProducts</th>\n",
              "      <th>MntSweetProducts</th>\n",
              "      <th>MntGoldProds</th>\n",
              "      <th>NumDealsPurchases</th>\n",
              "      <th>NumWebPurchases</th>\n",
              "      <th>NumCatalogPurchases</th>\n",
              "      <th>NumStorePurchases</th>\n",
              "      <th>NumWebVisitsMonth</th>\n",
              "      <th>Complain</th>\n",
              "    </tr>\n",
              "  </thead>\n",
              "  <tbody>\n",
              "    <tr>\n",
              "      <th>0</th>\n",
              "      <td>0</td>\n",
              "      <td>1985</td>\n",
              "      <td>Graduation</td>\n",
              "      <td>Married</td>\n",
              "      <td>70951.0</td>\n",
              "      <td>0</td>\n",
              "      <td>0</td>\n",
              "      <td>2013-05-04</td>\n",
              "      <td>66</td>\n",
              "      <td>239</td>\n",
              "      <td>...</td>\n",
              "      <td>554</td>\n",
              "      <td>254</td>\n",
              "      <td>87</td>\n",
              "      <td>54</td>\n",
              "      <td>1</td>\n",
              "      <td>3</td>\n",
              "      <td>4</td>\n",
              "      <td>9</td>\n",
              "      <td>1</td>\n",
              "      <td>0</td>\n",
              "    </tr>\n",
              "    <tr>\n",
              "      <th>1</th>\n",
              "      <td>1</td>\n",
              "      <td>1961</td>\n",
              "      <td>Graduation</td>\n",
              "      <td>Single</td>\n",
              "      <td>57091.0</td>\n",
              "      <td>0</td>\n",
              "      <td>0</td>\n",
              "      <td>2014-06-15</td>\n",
              "      <td>0</td>\n",
              "      <td>464</td>\n",
              "      <td>...</td>\n",
              "      <td>64</td>\n",
              "      <td>7</td>\n",
              "      <td>0</td>\n",
              "      <td>37</td>\n",
              "      <td>1</td>\n",
              "      <td>7</td>\n",
              "      <td>3</td>\n",
              "      <td>7</td>\n",
              "      <td>5</td>\n",
              "      <td>0</td>\n",
              "    </tr>\n",
              "    <tr>\n",
              "      <th>2</th>\n",
              "      <td>9</td>\n",
              "      <td>1975</td>\n",
              "      <td>Master</td>\n",
              "      <td>Single</td>\n",
              "      <td>46098.0</td>\n",
              "      <td>1</td>\n",
              "      <td>1</td>\n",
              "      <td>2012-08-18</td>\n",
              "      <td>86</td>\n",
              "      <td>57</td>\n",
              "      <td>...</td>\n",
              "      <td>27</td>\n",
              "      <td>0</td>\n",
              "      <td>0</td>\n",
              "      <td>36</td>\n",
              "      <td>4</td>\n",
              "      <td>3</td>\n",
              "      <td>2</td>\n",
              "      <td>2</td>\n",
              "      <td>8</td>\n",
              "      <td>0</td>\n",
              "    </tr>\n",
              "    <tr>\n",
              "      <th>3</th>\n",
              "      <td>13</td>\n",
              "      <td>1947</td>\n",
              "      <td>PhD</td>\n",
              "      <td>Widow</td>\n",
              "      <td>25358.0</td>\n",
              "      <td>0</td>\n",
              "      <td>1</td>\n",
              "      <td>2013-07-22</td>\n",
              "      <td>57</td>\n",
              "      <td>19</td>\n",
              "      <td>...</td>\n",
              "      <td>5</td>\n",
              "      <td>0</td>\n",
              "      <td>0</td>\n",
              "      <td>8</td>\n",
              "      <td>2</td>\n",
              "      <td>1</td>\n",
              "      <td>0</td>\n",
              "      <td>3</td>\n",
              "      <td>6</td>\n",
              "      <td>0</td>\n",
              "    </tr>\n",
              "    <tr>\n",
              "      <th>4</th>\n",
              "      <td>17</td>\n",
              "      <td>1971</td>\n",
              "      <td>PhD</td>\n",
              "      <td>Married</td>\n",
              "      <td>60491.0</td>\n",
              "      <td>0</td>\n",
              "      <td>1</td>\n",
              "      <td>2013-09-06</td>\n",
              "      <td>81</td>\n",
              "      <td>637</td>\n",
              "      <td>...</td>\n",
              "      <td>237</td>\n",
              "      <td>12</td>\n",
              "      <td>19</td>\n",
              "      <td>76</td>\n",
              "      <td>4</td>\n",
              "      <td>6</td>\n",
              "      <td>11</td>\n",
              "      <td>7</td>\n",
              "      <td>5</td>\n",
              "      <td>0</td>\n",
              "    </tr>\n",
              "  </tbody>\n",
              "</table>\n",
              "<p>5 rows × 21 columns</p>\n",
              "</div>"
            ],
            "text/plain": [
              "   ID  Year_Birth   Education Marital_Status   Income  Kidhome  Teenhome  \\\n",
              "0   0        1985  Graduation        Married  70951.0        0         0   \n",
              "1   1        1961  Graduation         Single  57091.0        0         0   \n",
              "2   9        1975      Master         Single  46098.0        1         1   \n",
              "3  13        1947         PhD          Widow  25358.0        0         1   \n",
              "4  17        1971         PhD        Married  60491.0        0         1   \n",
              "\n",
              "  Dt_Customer  Recency  MntWines  ...  MntMeatProducts  MntFishProducts  \\\n",
              "0  2013-05-04       66       239  ...              554              254   \n",
              "1  2014-06-15        0       464  ...               64                7   \n",
              "2  2012-08-18       86        57  ...               27                0   \n",
              "3  2013-07-22       57        19  ...                5                0   \n",
              "4  2013-09-06       81       637  ...              237               12   \n",
              "\n",
              "   MntSweetProducts  MntGoldProds  NumDealsPurchases  NumWebPurchases  \\\n",
              "0                87            54                  1                3   \n",
              "1                 0            37                  1                7   \n",
              "2                 0            36                  4                3   \n",
              "3                 0             8                  2                1   \n",
              "4                19            76                  4                6   \n",
              "\n",
              "   NumCatalogPurchases  NumStorePurchases  NumWebVisitsMonth  Complain  \n",
              "0                    4                  9                  1         0  \n",
              "1                    3                  7                  5         0  \n",
              "2                    2                  2                  8         0  \n",
              "3                    0                  3                  6         0  \n",
              "4                   11                  7                  5         0  \n",
              "\n",
              "[5 rows x 21 columns]"
            ]
          },
          "execution_count": 4,
          "metadata": {},
          "output_type": "execute_result"
        }
      ],
      "source": [
        "# Checking how the data looks\n",
        "customers.head()"
      ]
    },
    {
      "cell_type": "markdown",
      "metadata": {
        "id": "ySFAurkhA3-2"
      },
      "source": [
        "1. Impute missing values in Income with the mean value but given Education and Marital_Status."
      ]
    },
    {
      "cell_type": "code",
      "execution_count": 5,
      "metadata": {
        "id": "4el4ia4ABHMj"
      },
      "outputs": [],
      "source": [
        "# Imputing with mean given a certain value for Education and Marital status\n",
        "customers['Income'] = customers.groupby(['Education', 'Marital_Status'])['Income'].transform(lambda x: x.fillna(x.mean()))"
      ]
    },
    {
      "cell_type": "code",
      "execution_count": 7,
      "metadata": {
        "id": "yJQd137R85mA"
      },
      "outputs": [
        {
          "data": {
            "text/plain": [
              "ID                     False\n",
              "Year_Birth             False\n",
              "Education              False\n",
              "Marital_Status         False\n",
              "Income                 False\n",
              "Kidhome                False\n",
              "Teenhome               False\n",
              "Dt_Customer            False\n",
              "Recency                False\n",
              "MntWines               False\n",
              "MntFruits              False\n",
              "MntMeatProducts        False\n",
              "MntFishProducts        False\n",
              "MntSweetProducts       False\n",
              "MntGoldProds           False\n",
              "NumDealsPurchases      False\n",
              "NumWebPurchases        False\n",
              "NumCatalogPurchases    False\n",
              "NumStorePurchases      False\n",
              "NumWebVisitsMonth      False\n",
              "Complain               False\n",
              "dtype: bool"
            ]
          },
          "execution_count": 7,
          "metadata": {},
          "output_type": "execute_result"
        }
      ],
      "source": [
        "# To check if there are nulls\n",
        "customers.isna().any()"
      ]
    },
    {
      "cell_type": "markdown",
      "metadata": {
        "id": "CeiBXdmhBGi2"
      },
      "source": [
        "2. Create a new column named DaysSinceEnrollment calculated from Dt_Customer. This new column should contain the number of days since enrollment and must be of type int(int64 or int32). Take 2017-01-01 as a reference for the calculation."
      ]
    },
    {
      "cell_type": "code",
      "execution_count": 18,
      "metadata": {
        "id": "R-CvZu2x-yYk"
      },
      "outputs": [],
      "source": [
        "# Creating a new column with the help of pd.to_datettime\n",
        "ref_date = pd.to_datetime('2017-01-01', format='%Y/%m/%d')\n",
        "customers['DaysSinceEnrollment'] = (ref_date - pd.to_datetime(customers[\"Dt_Customer\"], format='%Y/%m/%d')).dt.days"
      ]
    },
    {
      "cell_type": "markdown",
      "metadata": {
        "id": "legBRPJDBOWi"
      },
      "source": [
        "3. Create a new column called Generation with the following logic.\n",
        "* If was born after 1981 (included) - Millenial\n",
        "* If was born between 1965 (included) and 1981 - GenX\n",
        "* If was born between 1946 (included) and 1965 - BabyBoomer\n",
        "* If was born between 1928 (included) and 1946 - Silent\n",
        "* If was born before 1928 - remove the row\n"
      ]
    },
    {
      "cell_type": "code",
      "execution_count": 19,
      "metadata": {
        "id": "S450L-9MAIhP"
      },
      "outputs": [],
      "source": [
        "# Creating a list with the different generations\n",
        "gen = []\n",
        "for row in customers['Year_Birth']:\n",
        "  if row >= 1981: gen.append('Millenial')\n",
        "  elif row >= 1965 and row < 1981: gen.append('GenX')\n",
        "  elif row >= 1946 and row < 1965: gen.append('BabyBoomer')\n",
        "  elif row >= 1928 and row < 1946: gen.append('Silent')\n",
        "  else: gen.append('Remove')"
      ]
    },
    {
      "cell_type": "code",
      "execution_count": 20,
      "metadata": {
        "id": "P90DhMc9FGv6"
      },
      "outputs": [],
      "source": [
        "# Adding Generation to the dataframe \n",
        "customers['Generation'] = gen"
      ]
    },
    {
      "cell_type": "code",
      "execution_count": 21,
      "metadata": {
        "colab": {
          "base_uri": "https://localhost:8080/",
          "height": 424
        },
        "id": "I9fzkD5iFxq1",
        "outputId": "8fd3ba39-e5fa-4da8-dea4-a4ad5091255f"
      },
      "outputs": [
        {
          "data": {
            "text/html": [
              "<div>\n",
              "<style scoped>\n",
              "    .dataframe tbody tr th:only-of-type {\n",
              "        vertical-align: middle;\n",
              "    }\n",
              "\n",
              "    .dataframe tbody tr th {\n",
              "        vertical-align: top;\n",
              "    }\n",
              "\n",
              "    .dataframe thead th {\n",
              "        text-align: right;\n",
              "    }\n",
              "</style>\n",
              "<table border=\"1\" class=\"dataframe\">\n",
              "  <thead>\n",
              "    <tr style=\"text-align: right;\">\n",
              "      <th></th>\n",
              "      <th>Generation</th>\n",
              "      <th>Year_Birth</th>\n",
              "    </tr>\n",
              "  </thead>\n",
              "  <tbody>\n",
              "    <tr>\n",
              "      <th>0</th>\n",
              "      <td>Millenial</td>\n",
              "      <td>1985</td>\n",
              "    </tr>\n",
              "    <tr>\n",
              "      <th>1</th>\n",
              "      <td>BabyBoomer</td>\n",
              "      <td>1961</td>\n",
              "    </tr>\n",
              "    <tr>\n",
              "      <th>2</th>\n",
              "      <td>GenX</td>\n",
              "      <td>1975</td>\n",
              "    </tr>\n",
              "    <tr>\n",
              "      <th>3</th>\n",
              "      <td>BabyBoomer</td>\n",
              "      <td>1947</td>\n",
              "    </tr>\n",
              "    <tr>\n",
              "      <th>4</th>\n",
              "      <td>GenX</td>\n",
              "      <td>1971</td>\n",
              "    </tr>\n",
              "    <tr>\n",
              "      <th>...</th>\n",
              "      <td>...</td>\n",
              "      <td>...</td>\n",
              "    </tr>\n",
              "    <tr>\n",
              "      <th>2235</th>\n",
              "      <td>GenX</td>\n",
              "      <td>1972</td>\n",
              "    </tr>\n",
              "    <tr>\n",
              "      <th>2236</th>\n",
              "      <td>BabyBoomer</td>\n",
              "      <td>1949</td>\n",
              "    </tr>\n",
              "    <tr>\n",
              "      <th>2237</th>\n",
              "      <td>GenX</td>\n",
              "      <td>1978</td>\n",
              "    </tr>\n",
              "    <tr>\n",
              "      <th>2238</th>\n",
              "      <td>BabyBoomer</td>\n",
              "      <td>1957</td>\n",
              "    </tr>\n",
              "    <tr>\n",
              "      <th>2239</th>\n",
              "      <td>Millenial</td>\n",
              "      <td>1986</td>\n",
              "    </tr>\n",
              "  </tbody>\n",
              "</table>\n",
              "<p>2240 rows × 2 columns</p>\n",
              "</div>"
            ],
            "text/plain": [
              "      Generation  Year_Birth\n",
              "0      Millenial        1985\n",
              "1     BabyBoomer        1961\n",
              "2           GenX        1975\n",
              "3     BabyBoomer        1947\n",
              "4           GenX        1971\n",
              "...          ...         ...\n",
              "2235        GenX        1972\n",
              "2236  BabyBoomer        1949\n",
              "2237        GenX        1978\n",
              "2238  BabyBoomer        1957\n",
              "2239   Millenial        1986\n",
              "\n",
              "[2240 rows x 2 columns]"
            ]
          },
          "execution_count": 21,
          "metadata": {},
          "output_type": "execute_result"
        }
      ],
      "source": [
        "customers[['Generation', 'Year_Birth']]"
      ]
    },
    {
      "cell_type": "code",
      "execution_count": 22,
      "metadata": {
        "id": "o9ephBKx8_hD"
      },
      "outputs": [],
      "source": [
        "# Dataframe without people born before 1928\n",
        "customers_new = customers[customers['Generation'] != 'Remove']"
      ]
    },
    {
      "cell_type": "markdown",
      "metadata": {
        "id": "UMx_erq7BnFb"
      },
      "source": [
        "4. Sort the resulting DataFrame by ID, in descending order."
      ]
    },
    {
      "cell_type": "code",
      "execution_count": 23,
      "metadata": {
        "colab": {
          "base_uri": "https://localhost:8080/"
        },
        "id": "viW6ozIzFGaN",
        "outputId": "0b6b238e-172c-4234-e192-e1d9b9d42a3b"
      },
      "outputs": [
        {
          "name": "stderr",
          "output_type": "stream",
          "text": [
            "/var/folders/wm/c9ks71w95s35n6j8r61gvcg40000gn/T/ipykernel_28647/3527064638.py:2: SettingWithCopyWarning: \n",
            "A value is trying to be set on a copy of a slice from a DataFrame\n",
            "\n",
            "See the caveats in the documentation: https://pandas.pydata.org/pandas-docs/stable/user_guide/indexing.html#returning-a-view-versus-a-copy\n",
            "  customers_new.sort_values(by='ID', ascending=False, inplace=True)\n"
          ]
        }
      ],
      "source": [
        "# Sorting the dataframe\n",
        "customers_new.sort_values(by='ID', ascending=False, inplace=True)"
      ]
    },
    {
      "cell_type": "code",
      "execution_count": 24,
      "metadata": {
        "colab": {
          "base_uri": "https://localhost:8080/",
          "height": 444
        },
        "id": "FP7ZhLMkB23A",
        "outputId": "cf65caa2-9406-4a3e-b370-c5b8159050d1"
      },
      "outputs": [
        {
          "data": {
            "text/html": [
              "<div>\n",
              "<style scoped>\n",
              "    .dataframe tbody tr th:only-of-type {\n",
              "        vertical-align: middle;\n",
              "    }\n",
              "\n",
              "    .dataframe tbody tr th {\n",
              "        vertical-align: top;\n",
              "    }\n",
              "\n",
              "    .dataframe thead th {\n",
              "        text-align: right;\n",
              "    }\n",
              "</style>\n",
              "<table border=\"1\" class=\"dataframe\">\n",
              "  <thead>\n",
              "    <tr style=\"text-align: right;\">\n",
              "      <th></th>\n",
              "      <th>ID</th>\n",
              "      <th>Year_Birth</th>\n",
              "      <th>Education</th>\n",
              "      <th>Marital_Status</th>\n",
              "      <th>Income</th>\n",
              "      <th>Kidhome</th>\n",
              "      <th>Teenhome</th>\n",
              "      <th>Dt_Customer</th>\n",
              "      <th>Recency</th>\n",
              "      <th>MntWines</th>\n",
              "      <th>...</th>\n",
              "      <th>MntSweetProducts</th>\n",
              "      <th>MntGoldProds</th>\n",
              "      <th>NumDealsPurchases</th>\n",
              "      <th>NumWebPurchases</th>\n",
              "      <th>NumCatalogPurchases</th>\n",
              "      <th>NumStorePurchases</th>\n",
              "      <th>NumWebVisitsMonth</th>\n",
              "      <th>Complain</th>\n",
              "      <th>DaysSinceEnrollment</th>\n",
              "      <th>Generation</th>\n",
              "    </tr>\n",
              "  </thead>\n",
              "  <tbody>\n",
              "    <tr>\n",
              "      <th>2239</th>\n",
              "      <td>11191</td>\n",
              "      <td>1986</td>\n",
              "      <td>Graduation</td>\n",
              "      <td>Divorced</td>\n",
              "      <td>41411.0</td>\n",
              "      <td>0</td>\n",
              "      <td>0</td>\n",
              "      <td>2013-12-07</td>\n",
              "      <td>11</td>\n",
              "      <td>37</td>\n",
              "      <td>...</td>\n",
              "      <td>3</td>\n",
              "      <td>18</td>\n",
              "      <td>1</td>\n",
              "      <td>2</td>\n",
              "      <td>1</td>\n",
              "      <td>4</td>\n",
              "      <td>6</td>\n",
              "      <td>0</td>\n",
              "      <td>1121</td>\n",
              "      <td>Millenial</td>\n",
              "    </tr>\n",
              "    <tr>\n",
              "      <th>2238</th>\n",
              "      <td>11188</td>\n",
              "      <td>1957</td>\n",
              "      <td>Graduation</td>\n",
              "      <td>Together</td>\n",
              "      <td>26091.0</td>\n",
              "      <td>1</td>\n",
              "      <td>1</td>\n",
              "      <td>2014-02-25</td>\n",
              "      <td>84</td>\n",
              "      <td>15</td>\n",
              "      <td>...</td>\n",
              "      <td>17</td>\n",
              "      <td>20</td>\n",
              "      <td>3</td>\n",
              "      <td>2</td>\n",
              "      <td>1</td>\n",
              "      <td>3</td>\n",
              "      <td>5</td>\n",
              "      <td>0</td>\n",
              "      <td>1041</td>\n",
              "      <td>BabyBoomer</td>\n",
              "    </tr>\n",
              "    <tr>\n",
              "      <th>2237</th>\n",
              "      <td>11187</td>\n",
              "      <td>1978</td>\n",
              "      <td>Basic</td>\n",
              "      <td>Single</td>\n",
              "      <td>26487.0</td>\n",
              "      <td>1</td>\n",
              "      <td>0</td>\n",
              "      <td>2013-05-20</td>\n",
              "      <td>23</td>\n",
              "      <td>2</td>\n",
              "      <td>...</td>\n",
              "      <td>14</td>\n",
              "      <td>23</td>\n",
              "      <td>3</td>\n",
              "      <td>2</td>\n",
              "      <td>1</td>\n",
              "      <td>3</td>\n",
              "      <td>5</td>\n",
              "      <td>0</td>\n",
              "      <td>1322</td>\n",
              "      <td>GenX</td>\n",
              "    </tr>\n",
              "    <tr>\n",
              "      <th>2236</th>\n",
              "      <td>11181</td>\n",
              "      <td>1949</td>\n",
              "      <td>PhD</td>\n",
              "      <td>Married</td>\n",
              "      <td>156924.0</td>\n",
              "      <td>0</td>\n",
              "      <td>0</td>\n",
              "      <td>2013-08-29</td>\n",
              "      <td>85</td>\n",
              "      <td>2</td>\n",
              "      <td>...</td>\n",
              "      <td>1</td>\n",
              "      <td>1</td>\n",
              "      <td>0</td>\n",
              "      <td>0</td>\n",
              "      <td>0</td>\n",
              "      <td>0</td>\n",
              "      <td>0</td>\n",
              "      <td>0</td>\n",
              "      <td>1221</td>\n",
              "      <td>BabyBoomer</td>\n",
              "    </tr>\n",
              "    <tr>\n",
              "      <th>2235</th>\n",
              "      <td>11178</td>\n",
              "      <td>1972</td>\n",
              "      <td>Master</td>\n",
              "      <td>Single</td>\n",
              "      <td>42394.0</td>\n",
              "      <td>1</td>\n",
              "      <td>0</td>\n",
              "      <td>2014-03-23</td>\n",
              "      <td>69</td>\n",
              "      <td>15</td>\n",
              "      <td>...</td>\n",
              "      <td>1</td>\n",
              "      <td>4</td>\n",
              "      <td>1</td>\n",
              "      <td>1</td>\n",
              "      <td>0</td>\n",
              "      <td>3</td>\n",
              "      <td>7</td>\n",
              "      <td>0</td>\n",
              "      <td>1015</td>\n",
              "      <td>GenX</td>\n",
              "    </tr>\n",
              "  </tbody>\n",
              "</table>\n",
              "<p>5 rows × 23 columns</p>\n",
              "</div>"
            ],
            "text/plain": [
              "         ID  Year_Birth   Education Marital_Status    Income  Kidhome  \\\n",
              "2239  11191        1986  Graduation       Divorced   41411.0        0   \n",
              "2238  11188        1957  Graduation       Together   26091.0        1   \n",
              "2237  11187        1978       Basic         Single   26487.0        1   \n",
              "2236  11181        1949         PhD        Married  156924.0        0   \n",
              "2235  11178        1972      Master         Single   42394.0        1   \n",
              "\n",
              "      Teenhome Dt_Customer  Recency  MntWines  ...  MntSweetProducts  \\\n",
              "2239         0  2013-12-07       11        37  ...                 3   \n",
              "2238         1  2014-02-25       84        15  ...                17   \n",
              "2237         0  2013-05-20       23         2  ...                14   \n",
              "2236         0  2013-08-29       85         2  ...                 1   \n",
              "2235         0  2014-03-23       69        15  ...                 1   \n",
              "\n",
              "      MntGoldProds  NumDealsPurchases  NumWebPurchases  NumCatalogPurchases  \\\n",
              "2239            18                  1                2                    1   \n",
              "2238            20                  3                2                    1   \n",
              "2237            23                  3                2                    1   \n",
              "2236             1                  0                0                    0   \n",
              "2235             4                  1                1                    0   \n",
              "\n",
              "      NumStorePurchases  NumWebVisitsMonth  Complain  DaysSinceEnrollment  \\\n",
              "2239                  4                  6         0                 1121   \n",
              "2238                  3                  5         0                 1041   \n",
              "2237                  3                  5         0                 1322   \n",
              "2236                  0                  0         0                 1221   \n",
              "2235                  3                  7         0                 1015   \n",
              "\n",
              "      Generation  \n",
              "2239   Millenial  \n",
              "2238  BabyBoomer  \n",
              "2237        GenX  \n",
              "2236  BabyBoomer  \n",
              "2235        GenX  \n",
              "\n",
              "[5 rows x 23 columns]"
            ]
          },
          "execution_count": 24,
          "metadata": {},
          "output_type": "execute_result"
        }
      ],
      "source": [
        "customers_new.head()"
      ]
    },
    {
      "cell_type": "code",
      "execution_count": 27,
      "metadata": {
        "id": "pPkOpEFM9M0_"
      },
      "outputs": [],
      "source": [
        "# Writing to a csv\n",
        "customers_new.to_csv('Group7_Assignment2_C1_Part1.csv', index=False)"
      ]
    },
    {
      "cell_type": "code",
      "execution_count": null,
      "metadata": {},
      "outputs": [],
      "source": []
    }
  ],
  "metadata": {
    "colab": {
      "provenance": []
    },
    "kernelspec": {
      "display_name": "Python 3",
      "name": "python3"
    },
    "language_info": {
      "codemirror_mode": {
        "name": "ipython",
        "version": 3
      },
      "file_extension": ".py",
      "mimetype": "text/x-python",
      "name": "python",
      "nbconvert_exporter": "python",
      "pygments_lexer": "ipython3",
      "version": "3.10.13"
    }
  },
  "nbformat": 4,
  "nbformat_minor": 0
}
